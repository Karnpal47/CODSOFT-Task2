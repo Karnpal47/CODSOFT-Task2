{
 "cells": [
  {
   "cell_type": "code",
   "execution_count": 1,
   "metadata": {},
   "outputs": [
    {
     "name": "stdout",
     "output_type": "stream",
     "text": [
      "Choose the operation :\n",
      "1. Addition\n",
      "2. Substraction\n",
      "3. Multiplication\n",
      "4. Division\n",
      "\n",
      "12 + 12 = 24\n"
     ]
    }
   ],
   "source": [
    "# Arithmatic Calculator\n",
    "\n",
    "def add(num1, num2):\n",
    "    return num1 + num2\n",
    "\n",
    "\n",
    "def substract(num1, num2):\n",
    "    return num1 - num2\n",
    "\n",
    "\n",
    "def multiply(num1, num2):\n",
    "    return num1 * num2\n",
    "\n",
    "\n",
    "def division(num1, num2):\n",
    "    return num1 / num2\n",
    "\n",
    "\n",
    "cont = \"Yes\"\n",
    "\n",
    "while cont == \"Yes\":\n",
    "    print(\"Choose the operation :\\n\"\n",
    "          \"1. Addition\\n\"\n",
    "          \"2. Substraction\\n\"\n",
    "          \"3. Multiplication\\n\"\n",
    "          \"4. Division\\n\")\n",
    "\n",
    "    # Take input from user\n",
    "    choice = int(input(\"Select operation No:\"))\n",
    "    if choice not in [1, 2, 3, 4]:\n",
    "        print(\"invalid input.\")\n",
    "        break\n",
    "\n",
    "    num1 = int(input(\"Enter the first number: \"))\n",
    "    num2 = int(input(\"Enter the second number: \"))\n",
    "\n",
    "    if choice == 1:\n",
    "        print(num1, \"+\", num2, \"=\", add(num1, num2))\n",
    "\n",
    "    elif choice == 2:\n",
    "        print(num1, \"-\", num2, \"=\", substract(num1, num2))\n",
    "\n",
    "    elif choice == 3:\n",
    "        print(num1, \"*\", num2, \"=\", multiply(num1, num2))\n",
    "\n",
    "    else:\n",
    "        print(num1, \"/\", num2, \"=\", division(num1, num2))\n",
    "\n",
    "    cont = input(\"Continue: Yes/No --> \")\n",
    "    if cont == \"Yes\":\n",
    "        continue\n",
    "    else:\n",
    "        break\n"
   ]
  },
  {
   "cell_type": "code",
   "execution_count": null,
   "metadata": {},
   "outputs": [],
   "source": []
  }
 ],
 "metadata": {
  "kernelspec": {
   "display_name": "Python 3",
   "language": "python",
   "name": "python3"
  },
  "language_info": {
   "codemirror_mode": {
    "name": "ipython",
    "version": 3
   },
   "file_extension": ".py",
   "mimetype": "text/x-python",
   "name": "python",
   "nbconvert_exporter": "python",
   "pygments_lexer": "ipython3",
   "version": "3.12.1"
  }
 },
 "nbformat": 4,
 "nbformat_minor": 2
}
